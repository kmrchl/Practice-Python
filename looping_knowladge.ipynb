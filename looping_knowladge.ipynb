{
 "cells": [
  {
   "cell_type": "code",
   "execution_count": null,
   "metadata": {},
   "outputs": [],
   "source": [
    "# TEST KNOWLADGE LOOPING\n",
    "# 1. What is the purpose of a for loop in Python?\n",
    "# (a) To execute a block of code repeatedly while a condition is True.\n",
    "\n",
    "# 2. What keyword is used to exit a loop prematurely in Python?\n",
    "# (c) break\n",
    "\n",
    "# 3. Which loop type is ideal for iterating over sequences like lists and tuples?\n",
    "# (b) for loop\n",
    "\n",
    "# 4. In a nested loop, what does the inner loop do?\n",
    "# (d) It executes repeatedly for each iteration of the outer loop.\n",
    "\n",
    "# 5. When should you use the continue statement in a loop?\n",
    "# (b) To skip the current iteration and continue to the next.\n",
    "\n",
    "# 6. What is the purpose of the while loop in Python?\n",
    "# (b) To execute a block of code repeatedly while a condition is True.\n",
    "\n",
    "# 7. which of the following is not range() parameter ?\n",
    "# (c) step"
   ]
  }
 ],
 "metadata": {
  "kernelspec": {
   "display_name": "Python 3",
   "language": "python",
   "name": "python3"
  },
  "language_info": {
   "name": "python",
   "version": "3.11.5"
  },
  "orig_nbformat": 4
 },
 "nbformat": 4,
 "nbformat_minor": 2
}
